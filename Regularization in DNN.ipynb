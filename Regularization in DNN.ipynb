{
 "cells": [
  {
   "cell_type": "code",
   "execution_count": 1,
   "metadata": {},
   "outputs": [],
   "source": [
    "# Loading libraries\n",
    "\n",
    "import matplotlib.pyplot as plt\n",
    "%matplotlib inline\n",
    "\n",
    "import tensorflow as tf\n",
    "import numpy as np\n",
    "import pandas as pd\n",
    "\n",
    "from sklearn.datasets import load_boston\n",
    "import sklearn.linear_model as sk\n",
    "\n",
    "# Keras import\n",
    "from tensorflow.keras.models import Sequential\n",
    "from tensorflow.keras.layers import Dense\n",
    "from tensorflow.keras import regularizers\n",
    "\n",
    "from tensorflow.keras import layers\n",
    "import tensorflow.keras as keras"
   ]
  },
  {
   "cell_type": "code",
   "execution_count": 2,
   "metadata": {},
   "outputs": [],
   "source": [
    "# Loading data\n",
    "\n",
    "boston = load_boston()\n",
    "features = np.array(boston.data)\n",
    "target = np.array(boston.target)"
   ]
  },
  {
   "cell_type": "code",
   "execution_count": 3,
   "metadata": {},
   "outputs": [
    {
     "name": "stdout",
     "output_type": "stream",
     "text": [
      "The dataset has 506 training samples.\n",
      "The dataset has 13 features.\n"
     ]
    }
   ],
   "source": [
    "n_training_samples = features.shape[0]\n",
    "n_dim = features.shape[1]\n",
    "\n",
    "print('The dataset has',n_training_samples,'training samples.')\n",
    "print('The dataset has',n_dim,'features.')"
   ]
  },
  {
   "cell_type": "code",
   "execution_count": 4,
   "metadata": {},
   "outputs": [],
   "source": [
    "def normalize(dataset):\n",
    "    mu = np.mean(dataset, axis = 0)\n",
    "    sigma = np.std(dataset, axis = 0)\n",
    "    return (dataset-mu)/sigma"
   ]
  },
  {
   "cell_type": "code",
   "execution_count": 5,
   "metadata": {},
   "outputs": [],
   "source": [
    "features_norm = normalize(features)"
   ]
  },
  {
   "cell_type": "code",
   "execution_count": 6,
   "metadata": {},
   "outputs": [
    {
     "name": "stdout",
     "output_type": "stream",
     "text": [
      "(13, 399)\n",
      "(399,)\n",
      "(107,)\n"
     ]
    }
   ],
   "source": [
    "np.random.seed(42)\n",
    "rnd = np.random.rand(len(features_norm)) < 0.8\n",
    "\n",
    "train_x = np.transpose(features_norm[rnd])\n",
    "train_y = np.transpose(target[rnd])\n",
    "dev_x = np.transpose(features_norm[~rnd])\n",
    "dev_y = np.transpose(target[~rnd])\n",
    "\n",
    "print(train_x.shape)\n",
    "print(train_y.shape)\n",
    "print(dev_y.shape)"
   ]
  },
  {
   "cell_type": "code",
   "execution_count": 7,
   "metadata": {},
   "outputs": [
    {
     "name": "stdout",
     "output_type": "stream",
     "text": [
      "(1, 399)\n",
      "(1, 107)\n"
     ]
    }
   ],
   "source": [
    "train_y = train_y.reshape(1,len(train_y))\n",
    "dev_y = dev_y.reshape(1,len(dev_y))\n",
    "\n",
    "print(train_y.shape)\n",
    "print(dev_y.shape)"
   ]
  },
  {
   "cell_type": "code",
   "execution_count": 8,
   "metadata": {},
   "outputs": [],
   "source": [
    "# Save the data as files\n",
    "\n",
    "np.savetxt(\"boston_train_x.csv\", train_x, delimiter=\",\")\n",
    "np.savetxt(\"boston_train_y.csv\", train_y, delimiter=\",\")\n",
    "np.savetxt(\"boston_dev_x.csv\", dev_x, delimiter=\",\")\n",
    "np.savetxt(\"boston_dev_y.csv\", dev_y, delimiter=\",\")"
   ]
  },
  {
   "cell_type": "code",
   "execution_count": 9,
   "metadata": {},
   "outputs": [],
   "source": [
    "# Load the Boston dataset from files\n",
    "\n",
    "train_x = pd.read_csv(\"boston_train_x.csv\", header = None)\n",
    "train_y = pd.read_csv(\"boston_train_y.csv\", header = None)\n",
    "dev_x = pd.read_csv(\"boston_dev_x.csv\", header = None)\n",
    "dev_y = pd.read_csv(\"boston_dev_y.csv\", header = None)"
   ]
  },
  {
   "cell_type": "code",
   "execution_count": 10,
   "metadata": {},
   "outputs": [
    {
     "name": "stdout",
     "output_type": "stream",
     "text": [
      "(13, 399)\n",
      "(1, 399)\n"
     ]
    }
   ],
   "source": [
    "print(train_x.shape)\n",
    "print(train_y.shape)"
   ]
  },
  {
   "cell_type": "markdown",
   "metadata": {},
   "source": [
    "Now let's look at what happens when we try to do linear regression with a network with 4 layers and each 20 neurons.\n",
    "\n"
   ]
  },
  {
   "cell_type": "code",
   "execution_count": 11,
   "metadata": {},
   "outputs": [],
   "source": [
    "tf.keras.backend.clear_session()"
   ]
  },
  {
   "cell_type": "code",
   "execution_count": 12,
   "metadata": {},
   "outputs": [],
   "source": [
    "class PrintProgress(keras.callbacks.Callback):\n",
    "    def on_epoch_end(self, epoch, logs):\n",
    "        if epoch % 1000 == 0: print('Epoch', epoch)"
   ]
  },
  {
   "cell_type": "code",
   "execution_count": 13,
   "metadata": {},
   "outputs": [
    {
     "name": "stdout",
     "output_type": "stream",
     "text": [
      "WARNING:tensorflow:From C:\\Users\\ab59349\\AppData\\Local\\Continuum\\anaconda3\\lib\\site-packages\\tensorflow_core\\python\\ops\\resource_variable_ops.py:1630: calling BaseResourceVariable.__init__ (from tensorflow.python.ops.resource_variable_ops) with constraint is deprecated and will be removed in a future version.\n",
      "Instructions for updating:\n",
      "If using Keras pass *_constraint arguments to layers.\n",
      "Epoch 0\n",
      "Epoch 1000\n",
      "Epoch 2000\n",
      "Epoch 3000\n",
      "Epoch 4000\n",
      "Epoch 5000\n",
      "Epoch 6000\n",
      "Epoch 7000\n",
      "Epoch 8000\n",
      "Epoch 9000\n",
      "Wall time: 58.4 s\n"
     ]
    }
   ],
   "source": [
    "%%time\n",
    "# Network building Phase\n",
    "model = tf.keras.Sequential()\n",
    "model.add(layers.Dense(20, input_dim=13, activation='relu'))\n",
    "model.add(layers.Dense(20, activation='relu'))\n",
    "model.add(layers.Dense(20, activation='relu'))\n",
    "model.add(layers.Dense(20, activation='relu'))\n",
    "    \n",
    "model.add(layers.Dense(1, activation='linear')) # Identity activation function\n",
    "\n",
    "model.compile(optimizer=tf.train.AdamOptimizer(0.001),\n",
    "              loss='mse',\n",
    "              metrics=['mse'])\n",
    "\n",
    "# Training Phase\n",
    "history = model.fit(train_x.transpose(), train_y.transpose(), epochs=10000, \n",
    "          batch_size=train_x.shape[1],verbose = 0,\n",
    "          callbacks=[PrintProgress()])"
   ]
  },
  {
   "cell_type": "code",
   "execution_count": 14,
   "metadata": {},
   "outputs": [
    {
     "data": {
      "text/plain": [
       "[<matplotlib.lines.Line2D at 0x23251978808>]"
      ]
     },
     "execution_count": 14,
     "metadata": {},
     "output_type": "execute_result"
    },
    {
     "data": {
      "image/png": "[encoded data removed]",
      "text/plain": [
       "<Figure size 432x288 with 1 Axes>"
      ]
     },
     "metadata": {
      "needs_background": "light"
     },
     "output_type": "display_data"
    }
   ],
   "source": [
    "# Quick plot of the MSE\n",
    "plt.plot(history.history['mean_squared_error'])"
   ]
  },
  {
   "cell_type": "code",
   "execution_count": 15,
   "metadata": {},
   "outputs": [
    {
     "data": {
      "text/plain": [
       "0.05733907"
      ]
     },
     "execution_count": 15,
     "metadata": {},
     "output_type": "execute_result"
    }
   ],
   "source": [
    "history.history['mean_squared_error'][-1]"
   ]
  },
  {
   "cell_type": "code",
   "execution_count": 16,
   "metadata": {},
   "outputs": [],
   "source": [
    "ynew = model.predict(dev_x.transpose())"
   ]
  },
  {
   "cell_type": "code",
   "execution_count": 17,
   "metadata": {},
   "outputs": [
    {
     "data": {
      "text/plain": [
       "0    30.767039\n",
       "dtype: float64"
      ]
     },
     "execution_count": 17,
     "metadata": {},
     "output_type": "execute_result"
    }
   ],
   "source": [
    "np.mean(np.square(ynew-dev_y.T))"
   ]
  },
  {
   "cell_type": "markdown",
   "metadata": {},
   "source": [
    "### Regularization L2"
   ]
  },
  {
   "cell_type": "code",
   "execution_count": 18,
   "metadata": {},
   "outputs": [],
   "source": [
    "tf.keras.backend.clear_session()"
   ]
  },
  {
   "cell_type": "code",
   "execution_count": 19,
   "metadata": {},
   "outputs": [
    {
     "name": "stdout",
     "output_type": "stream",
     "text": [
      "Epoch 0\n",
      "Epoch 1000\n",
      "Epoch 2000\n",
      "Epoch 3000\n",
      "Epoch 4000\n",
      "Wall time: 32.4 s\n"
     ]
    }
   ],
   "source": [
    "%%time\n",
    "# Network building Phase\n",
    "model = tf.keras.Sequential()\n",
    "model.add(layers.Dense(20, input_dim=13, activation='relu', kernel_regularizer=regularizers.l2(10.0)))\n",
    "model.add(layers.Dense(20, activation='relu', kernel_regularizer=regularizers.l2(10.0)))\n",
    "model.add(layers.Dense(20, activation='relu', kernel_regularizer=regularizers.l2(10.0)))\n",
    "model.add(layers.Dense(20, activation='relu', kernel_regularizer=regularizers.l2(5.0)))\n",
    "    \n",
    "model.add(layers.Dense(1, activation='linear', kernel_regularizer=regularizers.l2(0.0125))) # Identity activation function\n",
    "\n",
    "model.compile(optimizer=tf.train.AdamOptimizer(0.001),\n",
    "              loss='mse',\n",
    "              metrics=['mse'])\n",
    "\n",
    "# Training Phase\n",
    "history = model.fit(train_x.transpose(), train_y.transpose(), epochs=5000, \n",
    "          batch_size=train_x.shape[1],verbose = 0,\n",
    "          callbacks=[PrintProgress()])"
   ]
  },
  {
   "cell_type": "code",
   "execution_count": 20,
   "metadata": {},
   "outputs": [
    {
     "data": {
      "text/plain": [
       "21.026083"
      ]
     },
     "execution_count": 20,
     "metadata": {},
     "output_type": "execute_result"
    }
   ],
   "source": [
    "history.history['mean_squared_error'][-1]"
   ]
  },
  {
   "cell_type": "code",
   "execution_count": 21,
   "metadata": {},
   "outputs": [
    {
     "data": {
      "text/plain": [
       "[<matplotlib.lines.Line2D at 0x23255d0d3c8>]"
      ]
     },
     "execution_count": 21,
     "metadata": {},
     "output_type": "execute_result"
    },
    {
     "data": {
      "image/png": "[encoded data removed]",
      "text/plain": [
       "<Figure size 432x288 with 1 Axes>"
      ]
     },
     "metadata": {
      "needs_background": "light"
     },
     "output_type": "display_data"
    }
   ],
   "source": [
    "plt.plot(history.history['mean_squared_error'])"
   ]
  },
  {
   "cell_type": "code",
   "execution_count": 22,
   "metadata": {},
   "outputs": [],
   "source": [
    "ynew = model.predict(dev_x.transpose())"
   ]
  },
  {
   "cell_type": "code",
   "execution_count": 23,
   "metadata": {},
   "outputs": [
    {
     "data": {
      "text/plain": [
       "0    20.500026\n",
       "dtype: float64"
      ]
     },
     "execution_count": 23,
     "metadata": {},
     "output_type": "execute_result"
    }
   ],
   "source": [
    "np.mean(np.square(ynew-dev_y.T))"
   ]
  }
 ],
 "metadata": {
  "kernelspec": {
   "display_name": "Python 3",
   "language": "python",
   "name": "python3"
  },
  "language_info": {
   "codemirror_mode": {
    "name": "ipython",
    "version": 3
   },
   "file_extension": ".py",
   "mimetype": "text/x-python",
   "name": "python",
   "nbconvert_exporter": "python",
   "pygments_lexer": "ipython3",
   "version": "3.7.4"
  }
 },
 "nbformat": 4,
 "nbformat_minor": 2
}
